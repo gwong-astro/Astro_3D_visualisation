{
 "cells": [
  {
   "cell_type": "code",
   "execution_count": 1,
   "metadata": {},
   "outputs": [],
   "source": [
    "##################################################################\n",
    "# Purpose: Create a 3D animation using the published Mopra dataset\n",
    "# Author:  G. Wong\n",
    "# Date:    15.10.21\n",
    "#\n",
    "# Notes:   This is an update from a previous version from 2015.\n",
    "#          Suitable for python 3.7 only.\n",
    "#\n",
    "#          package name change - image now PIL (Pillow)\n",
    "#                              - pyfits integrated into astropy.fits\n",
    "#\n",
    "##################################################################"
   ]
  },
  {
   "cell_type": "code",
   "execution_count": 2,
   "metadata": {},
   "outputs": [
    {
     "name": "stdout",
     "output_type": "stream",
     "text": [
      "3.7.10 | packaged by conda-forge | (default, Oct 13 2021, 20:22:05) [MSC v.1916 64 bit (AMD64)]\n"
     ]
    }
   ],
   "source": [
    "# System Checks\n",
    "import sys\n",
    "print (sys.version)"
   ]
  },
  {
   "cell_type": "code",
   "execution_count": 3,
   "metadata": {},
   "outputs": [],
   "source": [
    "#conda activate python3.7   # to be used within jupyter notebook python 3.7"
   ]
  },
  {
   "cell_type": "code",
   "execution_count": 4,
   "metadata": {},
   "outputs": [],
   "source": [
    "# import libraries\n",
    "from astropy.io import fits\n",
    "import matplotlib.pyplot as plt\n",
    "from mpl_toolkits.mplot3d import Axes3D    # used in matplotlib\n",
    "import numpy as np\n",
    "import scipy.ndimage as ndimage\n",
    "\n",
    "from PIL import Image                # used to export the PS files\n",
    "\n",
    "from mayavi import mlab\n",
    "from mayavi.mlab import *\n"
   ]
  },
  {
   "cell_type": "code",
   "execution_count": null,
   "metadata": {},
   "outputs": [],
   "source": []
  },
  {
   "cell_type": "code",
   "execution_count": 5,
   "metadata": {},
   "outputs": [
    {
     "name": "stdout",
     "output_type": "stream",
     "text": [
      "Contour levels = [ 6  8 10]\n"
     ]
    }
   ],
   "source": [
    "# Parameters\n",
    "reverselut=False\n",
    "\n",
    "FITSfilename = \"G330.5/G330.5-12CO_3sig_vcrop.fits\"  #Blues     #The name of the file to read in.\n",
    "contours = np.arange(6,12,2)\t\t#Specify the contour levels. The numbers are start, end, stepsize\n",
    "colourscale = \"Blues\"\n",
    "colourlimits = [1,10]     #min,max of colourbar\n",
    "colour = (0,0,1)\n",
    "print('Contour levels =', contours)\n",
    "\n",
    "#framesize = [1280,680]   \n",
    "framesize = [1280,720]  \n"
   ]
  },
  {
   "cell_type": "code",
   "execution_count": 6,
   "metadata": {},
   "outputs": [
    {
     "name": "stderr",
     "output_type": "stream",
     "text": [
      "WARNING: VerifyWarning: Invalid 'BLANK' keyword in header.  The 'BLANK' keyword is only applicable to integer data, and will be ignored in this HDU. [astropy.io.fits.hdu.image]\n"
     ]
    }
   ],
   "source": [
    "# Extract header\n",
    "fitsfile = fits.open(FITSfilename)\n",
    "data_cube = fitsfile[0].data\n",
    "header = fitsfile[0].header\n",
    "fitsfile.close()"
   ]
  },
  {
   "cell_type": "code",
   "execution_count": 7,
   "metadata": {},
   "outputs": [],
   "source": [
    "# Extract header infomration\n",
    "crpix1 = header['CRPIX1']\t\t#reference pixel \n",
    "cdelt1 = header['CDELT1']\t\t#step size\n",
    "crval1 = header['CRVAL1']\t\t#coordinate for reference pixel\n",
    "ctype1 = header['CTYPE1']\n",
    "\n",
    "crpix2 = header['CRPIX2']\t\t#latitude\n",
    "cdelt2 = header['CDELT2']\n",
    "crval2 = header['CRVAL2']\n",
    "ctype2 = header['CTYPE2']\n",
    "\n",
    "crpix3 = header['CRPIX3']\t\t#velocity\n",
    "cdelt3 = header['CDELT3']\n",
    "crval3 = header['CRVAL3']\t\n",
    "ctype3 = header['CTYPE3']\n",
    "\n",
    "bunit = header['BUNIT']"
   ]
  },
  {
   "cell_type": "code",
   "execution_count": 8,
   "metadata": {},
   "outputs": [
    {
     "name": "stdout",
     "output_type": "stream",
     "text": [
      "nan <class 'numpy.float32'>\n",
      "8.477997\n",
      "nan <class 'numpy.float64'>\n"
     ]
    },
    {
     "name": "stderr",
     "output_type": "stream",
     "text": [
      "C:\\Users\\gwong\\anaconda3\\envs\\python3.7\\lib\\site-packages\\ipykernel_launcher.py:5: DeprecationWarning: `np.float` is a deprecated alias for the builtin `float`. To silence this warning, use `float` by itself. Doing this will not modify any behavior and is safe. If you specifically wanted the numpy scalar type, use `np.float64` here.\n",
      "Deprecated in NumPy 1.20; for more details and guidance: https://numpy.org/devdocs/release/1.20.0-notes.html#deprecations\n",
      "  \"\"\"\n"
     ]
    },
    {
     "name": "stdout",
     "output_type": "stream",
     "text": [
      "8.478003629037465\n",
      "Data cube axes = VELO-LSR GLAT-CAR GLON-CAR\n",
      "Data cube size =  (1701, 122, 122)\n",
      "Axes size = 1699 121 121\n",
      "Axes limits = [39.9, -129.9] [-0.493750000000395, 0.506250000000405] [330.9937499999844, 329.9937499999836]\n",
      "nan <class 'numpy.float64'>\n",
      "0.0 <class 'numpy.float64'>\n"
     ]
    }
   ],
   "source": [
    "# Data formatting for visualisation, create a blank cube and fill it with the data\n",
    "print(data_cube[0,0,0], type(data_cube[0,0,0]))\n",
    "print(np.nanmean(data_cube))\n",
    "#data_cube = data_cube*1.0 \t\t\t#sometimes the formatting is wrong, so multiply everything by 1 to fix.\n",
    "data_cube = data_cube.astype(np.float)\n",
    "\n",
    "#print data_cube.type\n",
    "print(data_cube[0,0,0], type(data_cube[0,0,0]))\n",
    "print(np.nanmean(data_cube))\n",
    "print('Data cube axes =', ctype3, ctype2, ctype1)\n",
    "print('Data cube size = ', data_cube.shape)\n",
    "\n",
    "vel = [((x+1-crpix3)*cdelt3+crval3)/1000 for x in range(data_cube.shape[0])]\t\t#+1 because the FITS pixels are 1 to n, the python indexes are 0 to (n-1)\n",
    "glat = [(x+1-crpix2)*cdelt2+crval2 for x in range(data_cube.shape[1])]\n",
    "glon = [(x+1-crpix1)*cdelt1+crval1 for x in range(data_cube.shape[2])]\n",
    "\n",
    "data_cube = data_cube[::-1,:,:] \t\t\t#Reverse the velocity axis, so that positive velocity is further away. Maybe not necessary?\n",
    "#data_cube = data_cube[39:172,8:126,10:600]\t\t#If you want to cut some edges off the cube, you can specify it here\n",
    "vel = vel[1:1700]   # ctype3\n",
    "glat = glat[1:122]  # ctype2\n",
    "glon = glon[1:122]  # ctype1\n",
    "\n",
    "\n",
    "vel = vel[::-1]\n",
    "\n",
    "print('Axes size =', len(vel), len(glat), len(glon))\n",
    "print('Axes limits =', [vel[0],vel[-1]], [glat[0],glat[-1]], [glon[0],glon[-1]])\n",
    "\n",
    "print(data_cube[0,0,0], type(data_cube[0,0,0]))\n",
    "data_cube[np.isnan(data_cube)]= 0 \t\t\t#set any nan values to zero\n",
    "print(data_cube[0,0,0], type(data_cube[0,0,0]))\n",
    "\n",
    "data_cube = ndimage.gaussian_filter(data_cube, sigma=(0.5, 0.5, 0.5), order=0) \t\t\t#apply a gaussian filter to smooth the data. sigma = standard deviation for each axis\n",
    "\n",
    "data_cube=np.transpose(data_cube,(0,2,1))   #sort into velocity, longitude, latitude order. Might depend on your fits file\n"
   ]
  },
  {
   "cell_type": "code",
   "execution_count": 9,
   "metadata": {},
   "outputs": [],
   "source": [
    "# Imaging \n",
    "\n",
    "mlab.figure(size=framesize)\n",
    "scalarfield = mlab.pipeline.scalar_field(data_cube)\t\t#create a scalar field object from the data cube\n",
    "scalarfield.spacing = [1,1,1]\t\t\t\t\t\t\t#stretch out the velocity axis.\n",
    "\n",
    "vol = mlab.pipeline.volume(scalarfield, vmin=contours[0],vmax=contours[1],color=colour)\n",
    "\n",
    "mlab.figure(figure = mlab.gcf(),bgcolor=(1,1,1),fgcolor = (0,0,0))\n",
    "\n",
    "f = mlab.outline()\n",
    "f.outline_mode='cornered'\n",
    "\n",
    "vol.module_manager.scalar_lut_manager.data_range = [colourlimits[0], colourlimits[1]]\n",
    "vol.module_manager.scalar_lut_manager.data_range = [contours[0], contours[-1]]\n",
    "vol.module_manager.scalar_lut_manager.reverse_lut = reverselut\n"
   ]
  },
  {
   "cell_type": "code",
   "execution_count": 10,
   "metadata": {},
   "outputs": [],
   "source": [
    "# Image settings - title\n",
    "\n",
    "ti = mlab.title('12CO 1-0',height=0.9, size = 0.3)\n",
    "ti.y_position = 0.9\n"
   ]
  },
  {
   "cell_type": "code",
   "execution_count": 11,
   "metadata": {},
   "outputs": [],
   "source": [
    "# Camera orientation - loop to generate multiple images\n",
    "\n",
    "f = mlab.gcf()\n",
    "\n",
    "deg = 0\n",
    "for i in range(1,270):\n",
    "    view(deg,90,distance=2000,focalpoint='auto')\n",
    "    mlab.savefig(f'images/{i:04d}_vol.jpeg')\n",
    "    deg = deg + (i*0.01)\n",
    "\n",
    "    \n",
    "# mlab.show()   # good for debugging\n"
   ]
  },
  {
   "cell_type": "code",
   "execution_count": null,
   "metadata": {},
   "outputs": [],
   "source": []
  }
 ],
 "metadata": {
  "kernelspec": {
   "display_name": "Python 3 (ipykernel)",
   "language": "python",
   "name": "python3"
  },
  "language_info": {
   "codemirror_mode": {
    "name": "ipython",
    "version": 3
   },
   "file_extension": ".py",
   "mimetype": "text/x-python",
   "name": "python",
   "nbconvert_exporter": "python",
   "pygments_lexer": "ipython3",
   "version": "3.7.10"
  }
 },
 "nbformat": 4,
 "nbformat_minor": 4
}
