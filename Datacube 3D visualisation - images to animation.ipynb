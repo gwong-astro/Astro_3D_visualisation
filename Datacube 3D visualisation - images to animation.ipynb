{
 "cells": [
  {
   "cell_type": "code",
   "execution_count": 1,
   "metadata": {},
   "outputs": [],
   "source": [
    "##################################################################\n",
    "# Purpose: Python method to create a movie\n",
    "# Author:  G. Wong\n",
    "# Date:    01.01.22\n",
    "#\n",
    "# Notes:   Based on https://zulko.github.io/moviepy/getting_started/compositing.html?highlight=stack\n",
    "#       \n",
    "# Alternative: ffmpeg -r 60 -start_number 0000 -i 300-310_12CO.%04d.ppm -pix_fmt yuv420p -vf \"scale=1080:trunc(ow/a/2)*2\" 300-310_12CO.mp4\n",
    "#              The following will be your friend:\n",
    "#              https://newbedev.com/vertically-or-horizontally-stack-mosaic-several-videos-using-ffmpeg\n",
    "#\n",
    "##################################################################"
   ]
  },
  {
   "cell_type": "code",
   "execution_count": null,
   "metadata": {},
   "outputs": [],
   "source": [
    "import libraries\n",
    "import os\n",
    "import moviepy.video.io.ImageSequenceClip\n",
    "from moviepy.editor import VideoFileClip, clips_array, vfx"
   ]
  },
  {
   "cell_type": "code",
   "execution_count": 4,
   "metadata": {},
   "outputs": [
    {
     "name": "stdout",
     "output_type": "stream",
     "text": [
      "Moviepy - Building video my_video.mp4.\n",
      "Moviepy - Writing video my_video.mp4\n",
      "\n"
     ]
    },
    {
     "name": "stderr",
     "output_type": "stream",
     "text": [
      "                                                              \r"
     ]
    },
    {
     "name": "stdout",
     "output_type": "stream",
     "text": [
      "Moviepy - Done !\n",
      "Moviepy - video ready my_video.mp4\n"
     ]
    }
   ],
   "source": [
    "def single_clip(img_folder='images', vid_fileName = 'my_video.mp4', img_format = '.jpeg', fps=30):\n",
    "\"\"\"\n",
    "Generate a single clip.\n",
    "\n",
    ":param str img_folder: Directory name of where the images are storged locally\n",
    ":param str vid_filename: Output of the clip name\n",
    ":param str img_format: Format of the image files, used as a consistency check\n",
    ":param int fps: Frames Per Second\n",
    "\n",
    "\"\"\"\n",
    "    # Generate file list, combine the directory name with image name (and make sure you have the right format).\n",
    "    image_files = [os.path.join(img_folder,img)\n",
    "                   for img in os.listdir(img_folder)\n",
    "                   if img.endswith(img_format)]\n",
    "\n",
    "    # Create movie\n",
    "    clip = moviepy.video.io.ImageSequenceClip.ImageSequenceClip(image_files, fps=fps)\n",
    "    clip.write_videofile(vid_fileName) # save movie"
   ]
  },
  {
   "cell_type": "code",
   "execution_count": 6,
   "metadata": {},
   "outputs": [
    {
     "ename": "SyntaxError",
     "evalue": "invalid syntax (Temp/ipykernel_26320/1557507322.py, line 1)",
     "output_type": "error",
     "traceback": [
      "\u001b[1;36m  File \u001b[1;32m\"C:\\Users\\gwong\\AppData\\Local\\Temp/ipykernel_26320/1557507322.py\"\u001b[1;36m, line \u001b[1;32m1\u001b[0m\n\u001b[1;33m    def clip_array( clips([[clip1, clip2],[clip3, clip4]]), dim=480, output='my_stack.mp4'):\u001b[0m\n\u001b[1;37m                         ^\u001b[0m\n\u001b[1;31mSyntaxError\u001b[0m\u001b[1;31m:\u001b[0m invalid syntax\n"
     ]
    }
   ],
   "source": [
    "def clip_array(dim=480, output='my_stack.mp4'):\n",
    "    final_clip = clips([[clip1, clip2],[clip3, clip4]])\n",
    "    final_clip.resize(width=dim).write_videofile(output)"
   ]
  },
  {
   "cell_type": "code",
   "execution_count": null,
   "metadata": {},
   "outputs": [],
   "source": []
  }
 ],
 "metadata": {
  "kernelspec": {
   "display_name": "Python 3 (ipykernel)",
   "language": "python",
   "name": "python3"
  },
  "language_info": {
   "codemirror_mode": {
    "name": "ipython",
    "version": 3
   },
   "file_extension": ".py",
   "mimetype": "text/x-python",
   "name": "python",
   "nbconvert_exporter": "python",
   "pygments_lexer": "ipython3",
   "version": "3.7.10"
  }
 },
 "nbformat": 4,
 "nbformat_minor": 4
}
