{
 "cells": [
  {
   "cell_type": "code",
   "execution_count": 1,
   "metadata": {},
   "outputs": [],
   "source": [
    "##################################################################\n",
    "# Purpose: Create a 3D image using the published Mopra dataset\n",
    "# Author:  G. Wong\n",
    "# Date:    15.10.21\n",
    "#\n",
    "# Notes:   This is an update from a previous version from 2015.\n",
    "#          Suitable for python 3.7 only.\n",
    "#\n",
    "#          package name change - image now PIL (Pillow)\n",
    "#                              - pyfits integrated into astropy.fits\n",
    "#\n",
    "##################################################################"
   ]
  },
  {
   "cell_type": "code",
   "execution_count": 2,
   "metadata": {},
   "outputs": [
    {
     "name": "stdout",
     "output_type": "stream",
     "text": [
      "3.7.10 | packaged by conda-forge | (default, Oct 13 2021, 20:22:05) [MSC v.1916 64 bit (AMD64)]\n"
     ]
    }
   ],
   "source": [
    "# System Checks\n",
    "import sys\n",
    "print (sys.version)"
   ]
  },
  {
   "cell_type": "code",
   "execution_count": 3,
   "metadata": {},
   "outputs": [],
   "source": [
    "#conda activate python3.7   # to be used within jupyter notebook python 3.7"
   ]
  },
  {
   "cell_type": "code",
   "execution_count": 4,
   "metadata": {},
   "outputs": [],
   "source": [
    "# import libraries\n",
    "from astropy.io import fits\n",
    "import matplotlib.pyplot as plt\n",
    "from mpl_toolkits.mplot3d import Axes3D    # used in matplotlib\n",
    "import numpy as np\n",
    "import scipy.ndimage as ndimage\n",
    "\n",
    "from PIL import Image                # used to export the PS files\n",
    "\n",
    "\n",
    "from mayavi import mlab\n",
    "from mayavi.mlab import *\n"
   ]
  },
  {
   "cell_type": "code",
   "execution_count": 5,
   "metadata": {},
   "outputs": [
    {
     "name": "stdout",
     "output_type": "stream",
     "text": [
      "Contour levels = [ 6  8 10]\n"
     ]
    }
   ],
   "source": [
    "# Parameters\n",
    "reverselut=False\n",
    "\n",
    "FITSfilename = \"G330.5/G330.5-12CO_3sig_vcrop.fits\"  #Blues     #The name of the file to read in.\n",
    "contours = np.arange(6,12,2)\t\t#Specify the contour levels. The numbers are start, end, stepsize\n",
    "colourscale = \"Blues\"\n",
    "colourlimits = [1,10]     #min,max of colourbar\n",
    "colour = (0,0,1)\n",
    "print('Contour levels =', contours)\n",
    "\n",
    "#framesize = [1280,680]   \n",
    "framesize = [1280,720]  \n"
   ]
  },
  {
   "cell_type": "code",
   "execution_count": 6,
   "metadata": {},
   "outputs": [
    {
     "name": "stderr",
     "output_type": "stream",
     "text": [
      "WARNING: VerifyWarning: Invalid 'BLANK' keyword in header.  The 'BLANK' keyword is only applicable to integer data, and will be ignored in this HDU. [astropy.io.fits.hdu.image]\n"
     ]
    }
   ],
   "source": [
    "# Extract header\n",
    "fitsfile = fits.open(FITSfilename)\n",
    "data_cube = fitsfile[0].data\n",
    "header = fitsfile[0].header\n",
    "fitsfile.close()"
   ]
  },
  {
   "cell_type": "code",
   "execution_count": 7,
   "metadata": {},
   "outputs": [],
   "source": [
    "# Extract header infomration\n",
    "crpix1 = header['CRPIX1']\t\t#reference pixel \n",
    "cdelt1 = header['CDELT1']\t\t#step size\n",
    "crval1 = header['CRVAL1']\t\t#coordinate for reference pixel\n",
    "ctype1 = header['CTYPE1']\n",
    "\n",
    "crpix2 = header['CRPIX2']\t\t#latitude\n",
    "cdelt2 = header['CDELT2']\n",
    "crval2 = header['CRVAL2']\n",
    "ctype2 = header['CTYPE2']\n",
    "\n",
    "crpix3 = header['CRPIX3']\t\t#velocity\n",
    "cdelt3 = header['CDELT3']\n",
    "crval3 = header['CRVAL3']\t\n",
    "ctype3 = header['CTYPE3']\n",
    "\n",
    "bunit = header['BUNIT']"
   ]
  },
  {
   "cell_type": "code",
   "execution_count": 8,
   "metadata": {},
   "outputs": [
    {
     "name": "stdout",
     "output_type": "stream",
     "text": [
      "nan <class 'numpy.float32'>\n",
      "8.477997\n",
      "nan <class 'numpy.float64'>\n"
     ]
    },
    {
     "name": "stderr",
     "output_type": "stream",
     "text": [
      "C:\\Users\\gwong\\anaconda3\\envs\\python3.7\\lib\\site-packages\\ipykernel_launcher.py:5: DeprecationWarning: `np.float` is a deprecated alias for the builtin `float`. To silence this warning, use `float` by itself. Doing this will not modify any behavior and is safe. If you specifically wanted the numpy scalar type, use `np.float64` here.\n",
      "Deprecated in NumPy 1.20; for more details and guidance: https://numpy.org/devdocs/release/1.20.0-notes.html#deprecations\n",
      "  \"\"\"\n"
     ]
    },
    {
     "name": "stdout",
     "output_type": "stream",
     "text": [
      "8.478003629037465\n",
      "Data cube axes = VELO-LSR GLAT-CAR GLON-CAR\n",
      "Data cube size =  (1701, 122, 122)\n",
      "Axes size = 1699 121 121\n",
      "Axes limits = [39.9, -129.9] [-0.493750000000395, 0.506250000000405] [330.9937499999844, 329.9937499999836]\n",
      "nan <class 'numpy.float64'>\n",
      "0.0 <class 'numpy.float64'>\n"
     ]
    }
   ],
   "source": [
    "# Data formatting for visualisation, create a blank cube and fill it with the data\n",
    "print(data_cube[0,0,0], type(data_cube[0,0,0]))\n",
    "print(np.nanmean(data_cube))\n",
    "#data_cube = data_cube*1.0 \t\t\t#sometimes the formatting is wrong, so multiply everything by 1 to fix.\n",
    "data_cube = data_cube.astype(np.float)\n",
    "\n",
    "#print data_cube.type\n",
    "print(data_cube[0,0,0], type(data_cube[0,0,0]))\n",
    "print(np.nanmean(data_cube))\n",
    "print('Data cube axes =', ctype3, ctype2, ctype1)\n",
    "print('Data cube size = ', data_cube.shape)\n",
    "\n",
    "vel = [((x+1-crpix3)*cdelt3+crval3)/1000 for x in range(data_cube.shape[0])]\t\t#+1 because the FITS pixels are 1 to n, the python indexes are 0 to (n-1)\n",
    "glat = [(x+1-crpix2)*cdelt2+crval2 for x in range(data_cube.shape[1])]\n",
    "glon = [(x+1-crpix1)*cdelt1+crval1 for x in range(data_cube.shape[2])]\n",
    "\n",
    "data_cube = data_cube[::-1,:,:] \t\t\t#Reverse the velocity axis, so that positive velocity is further away. Maybe not necessary?\n",
    "#data_cube = data_cube[39:172,8:126,10:600]\t\t#If you want to cut some edges off the cube, you can specify it here\n",
    "vel = vel[1:1700]\n",
    "glat = glat[1:122]\n",
    "glon = glon[1:122]\n",
    "\n",
    "\n",
    "vel = vel[::-1]\n",
    "\n",
    "print('Axes size =', len(vel), len(glat), len(glon))\n",
    "print('Axes limits =', [vel[0],vel[-1]], [glat[0],glat[-1]], [glon[0],glon[-1]])\n",
    "\n",
    "print(data_cube[0,0,0], type(data_cube[0,0,0]))\n",
    "data_cube[np.isnan(data_cube)]= 0 \t\t\t#set any nan values to zero\n",
    "print(data_cube[0,0,0], type(data_cube[0,0,0]))\n",
    "\n",
    "data_cube = ndimage.gaussian_filter(data_cube, sigma=(0.5, 0.5, 0.5), order=0) \t\t\t#apply a gaussian filter to smooth the data. sigma = standard deviation for each axis\n",
    "\n",
    "data_cube=np.transpose(data_cube,(0,2,1))   #sort into velocity, longitude, latitude order. Might depend on your fits file\n"
   ]
  },
  {
   "cell_type": "code",
   "execution_count": 9,
   "metadata": {},
   "outputs": [
    {
     "name": "stdout",
     "output_type": "stream",
     "text": [
      "<mayavi.sources.array_source.ArraySource object at 0x000001ED2AAF4EE8> <class 'mayavi.sources.array_source.ArraySource'>\n"
     ]
    }
   ],
   "source": [
    "# Imaging \n",
    "\n",
    "mlab.figure(size=framesize)\n",
    "\n",
    "scalarfield = mlab.pipeline.scalar_field(data_cube)\t\t#create a scalar field object from the data cube\n",
    "print(scalarfield, type(scalarfield))\n",
    "scalarfield.spacing = [1,1,1]\t\t\t\t\t\t\t#stretch out the velocity axis.\n",
    "\n",
    "#contours = np.arange(0.5,np.amax(data_cube),np.amax(data_cube)/5.0)\t\n",
    "#print 'Contour levels =', contours\n",
    "\n",
    "#surf = mlab.pipeline.iso_surface(scalarfield, contours=contours.tolist(), opacity=0.3, colormap=colourscale)  #, extent=[0,180,3,50,3,50])\t#create a surface object from the scalar field\n",
    "vol = mlab.pipeline.volume(scalarfield, vmin=contours[0],vmax=contours[1],color=colour)\n",
    "\n",
    "\n",
    "#lut1 = surf.module_manager.scalar_lut_manager.lut.table.to_array()\n",
    "#print lut1\n",
    "#surf.module_manager.scalar_lut_manager.lut.table = lut\n",
    "#surf = mlab.contour3d(data_cube)\n",
    "\n",
    "#min = data_cube.min()\n",
    "#max = data_cube.max()\n",
    "\n",
    "\n",
    "mlab.figure(figure = mlab.gcf(),bgcolor=(1,1,1),fgcolor = (0,0,0))\n",
    "\n",
    "f = mlab.outline()\n",
    "f.outline_mode='cornered'\n",
    "f.bounds = [0,180,0,47,0,47]\n",
    "#surf.extent = [0,200,3,50,3,50]\n",
    "\n",
    "#surf.module_manager.scalar_lut_manager.data_range = [colourlimits[0], colourlimits[1]]\n",
    "#surf.module_manager.scalar_lut_manager.reverse_lut = reverselut\n",
    "vol.module_manager.scalar_lut_manager.data_range = [colourlimits[0], colourlimits[1]]\n",
    "vol.module_manager.scalar_lut_manager.data_range = [contours[0], contours[-1]]\n",
    "vol.module_manager.scalar_lut_manager.reverse_lut = reverselut\n",
    "\n",
    "\n",
    "\n"
   ]
  },
  {
   "cell_type": "code",
   "execution_count": 10,
   "metadata": {},
   "outputs": [
    {
     "name": "stdout",
     "output_type": "stream",
     "text": [
      "39.9 -129.9 330.9937499999844 329.9937499999836 -0.493750000000395 0.506250000000405\n"
     ]
    }
   ],
   "source": [
    "# Image settings\n",
    "\n",
    "ti = mlab.title(FITSfilename[5:-11] + '.',height=0.9, size = 0.3)\n",
    "ti.y_position = 0.9\n",
    "#ax = mlab.axes(xlabel=ctype3, ylabel=ctype1, zlabel=ctype2, ranges =[vel[0],vel[-1],glon[0],glon[-1],glat[0],glat[-1]])\n",
    "ax = mlab.axes(xlabel='Vel', ylabel='Lon', zlabel='Lat',ranges =[vel[0],vel[-1],glon[0],glon[-1],glat[0],glat[-1]])\n",
    "#ax = mlab.axes(xlabel='Vel', ylabel='Lon', zlabel='Lat', ranges =[0,-80,328.74,327.86,-0.52,0.52])\n",
    "#ax.bounds = [0,180,3,50,3,50]\n",
    "print(vel[0],vel[-1],glon[0],glon[-1],glat[0],glat[-1])\n",
    "\n",
    "ax.axes.label_format='%-6.3g'\n",
    "ax.title_text_property.font_family = 'times'\n",
    "ax.title_text_property.font_size = 20\n",
    "ax.axes.font_factor=1\n",
    "ax.property.opacity = 0.0\n",
    "ax.label_text_property.opacity = 0.0 \t\t\t#set to 0 to hide text labels\n",
    "ax.axes.corner_offset=0\n",
    "ax.title_text_property.line_offset = 0.0\n",
    "ax.title_text_property.vertical_justification = 'centered'\n",
    "ax.title_text_property.justification = 'centered'\n",
    "ax.title_text_property.bold = False\n"
   ]
  },
  {
   "cell_type": "code",
   "execution_count": 11,
   "metadata": {},
   "outputs": [
    {
     "name": "stdout",
     "output_type": "stream",
     "text": [
      "Current view = (59.99999999999999, 50.0, 1999.9999999999998, array([1000.,   50.,   50.]))\n"
     ]
    }
   ],
   "source": [
    "# Camera orientation\n",
    "\n",
    "#mlab.orientation_axes(xlabel='Vel', ylabel='Lon', zlabel='Lat')\n",
    "f = mlab.gcf()\n",
    "#f.scene.camera.parallel_projection = False\n",
    "#mlab.colorbar(title=bunit)\n",
    "#view(220,70,distance=1500,focalpoint=\"auto\")\n",
    "#view(50,90,distance=190,focalpoint=\"auto\")\n",
    "#camera_light3 = engine.scenes[0].scene.light_manager.lights[3]\n",
    "#camera_light3.activate = True\n",
    "#camera_light3.intensity = 0.5\n",
    "\n",
    "# 2021 no attributes lights\n",
    "#f.scene.light_manager.lights[3].activate = True\n",
    "#f.scene.light_manager.lights[3].intensity = 0.5\n",
    "\n",
    "\n",
    "view(60,50,distance=2000,focalpoint=[1000, 50,50])\n",
    "print('Current view =', view())\n",
    "#mlab.move(0,-20,0)\n",
    "#print('Current view =', view())\n",
    "\n",
    "\n",
    "\n",
    "mlab.savefig(FITSfilename + 'vol.jpeg')\n",
    "mlab.savefig(FITSfilename + 'vol.ps')\n",
    "\n",
    "#mlab.show()\n",
    "\n",
    "\n",
    "\n",
    "# image12CO = Image.open('12COvol.ps')\n",
    "# image13CO = Image.open('13COvol.ps')\n",
    "# imageCI = Image.open('CIvol.ps')\n",
    "# imageHI = Image.open('HIvol.ps')\n",
    "\n",
    "\n",
    "blank_image = Image.new(\"RGB\", (framesize[0]*2, framesize[1]*2-60))\n",
    "#blank_image.paste(image12CO, (0,0))\n",
    "#blank_image.paste(image13CO, (framesize[0],0))\n",
    "#blank_image.paste(imageCI, (0,framesize[1]-30))\n",
    "#blank_image.paste(imageHI, (framesize[0],framesize[1]-30))\n",
    "# blank_image.save('cubess120vol.ps')\n",
    "\n",
    "#blank_image.save('cubess120.eps')\n",
    "\n",
    "mlab.show()\n",
    "\n",
    "#click \"Stop Interaction\", then close the window."
   ]
  },
  {
   "cell_type": "code",
   "execution_count": 12,
   "metadata": {},
   "outputs": [],
   "source": [
    "#To create an interactive HTML, you'll need to edit cloud.x3d with a text editor.\n",
    "\n",
    "#change the 4th DirectionalLight to on=\"true\"\n",
    "#add <DepthMode readOnly=\"true\"></DepthMode> under <Appearance>\t\t(most important!)\n",
    "#near the bottom, change emissiveColor for the frame to \"1 1 1\" if you want a white outline\n",
    "#change the title position and rotation. I used        <Transform translation=\"120 25 60\" rotation=\"0 1 1 3.14159\" scale=\"1 1 1\" >\n",
    "#change the title to not solid  <Text string=\"name.fits\" solid=\"False\">\n",
    "#add in any extra labels after </Collision> in the title section. for example:\n",
    "# <Transform translation=\"250 25 -5\" rotation=\"-1 -1 -1 -2.0944\" scale=\"1 1 1\" >\n",
    "#   <Shape>\n",
    "#     <Appearance>\n",
    "#       <Material diffuseColor=\"0 0 1\" emissiveColor=\"1 1 1\"/>\n",
    "#     </Appearance>\n",
    "#     <Text string=\"GLon\" solid=\"False\">\n",
    "#       <FontStyle family='\"SANS\"' justify='\"MIDDLE\" \"MIDDLE\"' size=\"8\"/>\n",
    "#     </Text>\n",
    "#   </Shape>\n",
    "# </Transform>"
   ]
  }
 ],
 "metadata": {
  "kernelspec": {
   "display_name": "Python 3 (ipykernel)",
   "language": "python",
   "name": "python3"
  },
  "language_info": {
   "codemirror_mode": {
    "name": "ipython",
    "version": 3
   },
   "file_extension": ".py",
   "mimetype": "text/x-python",
   "name": "python",
   "nbconvert_exporter": "python",
   "pygments_lexer": "ipython3",
   "version": "3.7.10"
  }
 },
 "nbformat": 4,
 "nbformat_minor": 4
}
